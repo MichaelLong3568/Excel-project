{
 "cells": [
  {
   "cell_type": "markdown",
   "id": "5ae3bfa5-a25a-408f-b5d8-7d5083e5373a",
   "metadata": {},
   "source": [
    "# Automatic File Sorter in File Explorer"
   ]
  },
  {
   "cell_type": "code",
   "execution_count": 58,
   "id": "7f60cbb4-b0f4-4d63-affc-277095e48c61",
   "metadata": {},
   "outputs": [],
   "source": [
    "import os, shutil"
   ]
  },
  {
   "cell_type": "code",
   "execution_count": 60,
   "id": "eb738699-2c06-4453-8e8a-a2dd488b42fd",
   "metadata": {},
   "outputs": [],
   "source": [
    "path = r\"C:/Users/mouse/Pictures/Camera Roll/\""
   ]
  },
  {
   "cell_type": "code",
   "execution_count": 62,
   "id": "6e6d3d58-2166-401c-97cf-c90bf1623ee1",
   "metadata": {},
   "outputs": [],
   "source": [
    "file_name = os.listdir(path)"
   ]
  },
  {
   "cell_type": "code",
   "execution_count": 64,
   "id": "71b15b2a-e980-4d3d-9bfe-a620bccba16d",
   "metadata": {},
   "outputs": [],
   "source": [
    "folder_names = ['csv files', 'image files', 'text files']\n",
    "\n",
    "for loop in range(0,3):\n",
    "    if not os.path.exists(path + folder_names[loop]):\n",
    "        os.makedirs(path + folder_names[loop])"
   ]
  },
  {
   "cell_type": "code",
   "execution_count": 68,
   "id": "528d59d2-4e9e-4c68-8529-efbd45d054f8",
   "metadata": {},
   "outputs": [
    {
     "name": "stdout",
     "output_type": "stream",
     "text": [
      "there are not files not moved\n",
      "there are not files not moved\n",
      "there are not files not moved\n"
     ]
    }
   ],
   "source": [
    "for file in file_name:\n",
    "    if \".csv\" in file and not os.path.exists(path + \"csv files/\" + file):\n",
    "        shutil.move(path + file, path + \"csv files/\" + file)\n",
    "    elif \".jpg\" in file and not os.path.exists(path + \"image files/\" + file):\n",
    "        shutil.move(path + file, path + \"image files/\" + file)\n",
    "    elif \".txt\" in file and not os.path.exists(path + \"text files/\" + file):\n",
    "        shutil.move(path + file, path + \"text files/\" + file)\n",
    "    else:\n",
    "        print(\"there are not files not moved\")"
   ]
  },
  {
   "cell_type": "code",
   "execution_count": null,
   "id": "762a9365-c95f-45b7-84fc-ff0b25d6e936",
   "metadata": {},
   "outputs": [],
   "source": []
  },
  {
   "cell_type": "code",
   "execution_count": null,
   "id": "da7942af-2bf7-405f-a627-9fc6959fa86a",
   "metadata": {},
   "outputs": [],
   "source": []
  },
  {
   "cell_type": "code",
   "execution_count": null,
   "id": "23458a9e-d37a-434f-b642-874869f9f25c",
   "metadata": {},
   "outputs": [],
   "source": []
  },
  {
   "cell_type": "code",
   "execution_count": null,
   "id": "bb043a02-d7ac-456d-9b1b-af0fac722725",
   "metadata": {},
   "outputs": [],
   "source": []
  },
  {
   "cell_type": "code",
   "execution_count": null,
   "id": "fb6b1579-9848-4a83-b5cb-7112d715a99a",
   "metadata": {},
   "outputs": [],
   "source": []
  },
  {
   "cell_type": "code",
   "execution_count": null,
   "id": "cddb13eb-fe06-4895-9c0e-61a3cb57fb13",
   "metadata": {},
   "outputs": [],
   "source": []
  },
  {
   "cell_type": "code",
   "execution_count": null,
   "id": "dd6039dd-bad5-451b-8194-1cfcd0e66f0c",
   "metadata": {},
   "outputs": [],
   "source": []
  },
  {
   "cell_type": "code",
   "execution_count": null,
   "id": "49e1e49d-d0e3-4fbf-85bf-6a2dbfcbdf5b",
   "metadata": {},
   "outputs": [],
   "source": []
  }
 ],
 "metadata": {
  "kernelspec": {
   "display_name": "Python 3 (ipykernel)",
   "language": "python",
   "name": "python3"
  },
  "language_info": {
   "codemirror_mode": {
    "name": "ipython",
    "version": 3
   },
   "file_extension": ".py",
   "mimetype": "text/x-python",
   "name": "python",
   "nbconvert_exporter": "python",
   "pygments_lexer": "ipython3",
   "version": "3.12.4"
  }
 },
 "nbformat": 4,
 "nbformat_minor": 5
}
