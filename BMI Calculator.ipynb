{
 "cells": [
  {
   "cell_type": "markdown",
   "id": "1170b50b-7e03-4dcf-9bd1-220c06bb83ba",
   "metadata": {},
   "source": [
    "# BMI Calculator"
   ]
  },
  {
   "cell_type": "code",
   "execution_count": null,
   "id": "17b79f0f-6fd9-4ed2-83fc-6165243e19e6",
   "metadata": {},
   "outputs": [],
   "source": [
    "name = input(\"enter you name: \")\n",
    "\n",
    "weight = int(input(\"Enter your weight in pounds: \"))\n",
    "\n",
    "height = int(input(\"Enter your height in inches: \"))\n",
    "\n",
    "BMI = (weight * 703) / (height * height)\n",
    "\n",
    "print(BMI)\n",
    "\n",
    "if BMI>0:\n",
    "    if(BMI<18.5):\n",
    "        print(name + \", You are underweight.\")\n",
    "    elif (BMI<=24.9):\n",
    "        print(name + \", You are normal weight.\")\n",
    "    elif (BMI<29.9):\n",
    "        print(name + \", You are overweight.\")\n",
    "    elif (BMI<34.9):\n",
    "        print(name + \", You are obese.\")\n",
    "    elif (BMI<39.9):\n",
    "        print(name + \", You are severely obese.\")\n",
    "    else:\n",
    "        print(name + \", You are morbidly obese\")"
   ]
  },
  {
   "cell_type": "code",
   "execution_count": 49,
   "id": "d610c564-1487-49b2-aa31-14846ef4eeed",
   "metadata": {},
   "outputs": [
    {
     "name": "stdout",
     "output_type": "stream",
     "text": [
      "m, You are normal weight.\n"
     ]
    }
   ],
   "source": [
    "if BMI>0:\n",
    "    if(BMI<18.5):\n",
    "        print(name + \", You are underweight.\")\n",
    "    elif (BMI<=24.9):\n",
    "        print(name + \", You are normal weight.\")\n",
    "    elif (BMI<29.9):\n",
    "        print(name + \", You are overweight.\")\n",
    "    elif (BMI<34.9):\n",
    "        print(name + \", You are obese.\")\n",
    "    elif (BMI<39.9):\n",
    "        print(name + \", You are severely obese.\")\n",
    "    else:\n",
    "        print(name + \", You are morbidly obese\")\n",
    "            "
   ]
  },
  {
   "cell_type": "code",
   "execution_count": null,
   "id": "9611dfb4-9677-4334-a9dd-405445c43bd5",
   "metadata": {},
   "outputs": [],
   "source": []
  },
  {
   "cell_type": "code",
   "execution_count": null,
   "id": "ae018079-5da6-48e9-932a-0ab866e5b402",
   "metadata": {},
   "outputs": [],
   "source": []
  },
  {
   "cell_type": "code",
   "execution_count": null,
   "id": "13a27a1d-4dba-4869-a70c-0f98750531cd",
   "metadata": {},
   "outputs": [],
   "source": []
  },
  {
   "cell_type": "code",
   "execution_count": null,
   "id": "8ffa5a40-3dc2-4261-924a-3d7e2b4c86d9",
   "metadata": {},
   "outputs": [],
   "source": []
  },
  {
   "cell_type": "code",
   "execution_count": null,
   "id": "2182c802-3bdc-4d05-bad9-59d3eb90b5a4",
   "metadata": {},
   "outputs": [],
   "source": []
  },
  {
   "cell_type": "code",
   "execution_count": null,
   "id": "9853c5bb-a299-441e-9898-01cdf9660950",
   "metadata": {},
   "outputs": [],
   "source": []
  },
  {
   "cell_type": "code",
   "execution_count": null,
   "id": "e536d968-aaa9-4371-8449-a2d8f412fda2",
   "metadata": {},
   "outputs": [],
   "source": []
  },
  {
   "cell_type": "code",
   "execution_count": null,
   "id": "614512b8-4913-4ea9-8bc4-5718d7e1f39a",
   "metadata": {},
   "outputs": [],
   "source": []
  },
  {
   "cell_type": "code",
   "execution_count": null,
   "id": "e86be125-e497-430d-987b-51555f6ce7eb",
   "metadata": {},
   "outputs": [],
   "source": []
  }
 ],
 "metadata": {
  "kernelspec": {
   "display_name": "Python 3 (ipykernel)",
   "language": "python",
   "name": "python3"
  },
  "language_info": {
   "codemirror_mode": {
    "name": "ipython",
    "version": 3
   },
   "file_extension": ".py",
   "mimetype": "text/x-python",
   "name": "python",
   "nbconvert_exporter": "python",
   "pygments_lexer": "ipython3",
   "version": "3.12.4"
  }
 },
 "nbformat": 4,
 "nbformat_minor": 5
}
